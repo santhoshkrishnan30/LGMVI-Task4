{
  "nbformat": 4,
  "nbformat_minor": 0,
  "metadata": {
    "colab": {
      "provenance": []
    },
    "kernelspec": {
      "name": "python3",
      "display_name": "Python 3"
    },
    "language_info": {
      "name": "python"
    }
  },
  "cells": [
    {
      "cell_type": "code",
      "execution_count": 1,
      "metadata": {
        "id": "hHBbS9KFOpfV"
      },
      "outputs": [],
      "source": [
        "import numpy as np\n",
        "import tensorflow as tf\n",
        "from tensorflow.keras.preprocessing.text import Tokenizer\n",
        "from tensorflow.keras.preprocessing.sequence import pad_sequences\n",
        "from tensorflow.keras.models import Sequential\n",
        "from tensorflow.keras.layers import Embedding, SimpleRNN, Dense"
      ]
    },
    {
      "cell_type": "code",
      "source": [
        "# Load your dataset\n",
        "with open('/content/sample_data/1661-0.txt', 'r') as file:\n",
        "    text = file.read().lower()"
      ],
      "metadata": {
        "id": "TM87UiS6O5xZ"
      },
      "execution_count": 3,
      "outputs": []
    },
    {
      "cell_type": "code",
      "source": [
        "# Tokenize the text\n",
        "tokenizer = Tokenizer()\n",
        "tokenizer.fit_on_texts([text])\n",
        "total_words = len(tokenizer.word_index) + 1\n"
      ],
      "metadata": {
        "id": "BkL_dAHXO7cN"
      },
      "execution_count": 4,
      "outputs": []
    },
    {
      "cell_type": "code",
      "source": [
        "# Create input sequences\n",
        "input_sequences = []\n",
        "for line in text.split('\\n'):\n",
        "    token_list = tokenizer.texts_to_sequences([line])[0]\n",
        "    for i in range(1, len(token_list)):\n",
        "        n_gram_sequence = token_list[:i+1]\n",
        "        input_sequences.append(n_gram_sequence)"
      ],
      "metadata": {
        "id": "IydRtg3UPM-S"
      },
      "execution_count": 5,
      "outputs": []
    },
    {
      "cell_type": "code",
      "source": [
        "# Pad sequences and create predictors and labels\n",
        "max_sequence_len = max([len(seq) for seq in input_sequences])\n",
        "input_sequences = np.array(pad_sequences(input_sequences, maxlen=max_sequence_len, padding='pre'))\n",
        "X, y = input_sequences[:,:-1], input_sequences[:,-1]\n",
        "y = tf.keras.utils.to_categorical(y, num_classes=total_words)"
      ],
      "metadata": {
        "id": "fITKbDuMPO1r"
      },
      "execution_count": 6,
      "outputs": []
    },
    {
      "cell_type": "code",
      "source": [
        "# Build the RNN model\n",
        "model = Sequential()\n",
        "model.add(Embedding(total_words, 10, input_length=max_sequence_len-1))\n",
        "model.add(SimpleRNN(100))\n",
        "model.add(Dense(total_words, activation='softmax'))\n",
        "model.compile(loss='categorical_crossentropy', optimizer='adam', metrics=['accuracy'])"
      ],
      "metadata": {
        "id": "FNnUfA8iPRif"
      },
      "execution_count": 7,
      "outputs": []
    },
    {
      "cell_type": "code",
      "source": [
        "# Train the model\n",
        "history = model.fit(X, y, epochs=10, verbose=1)"
      ],
      "metadata": {
        "colab": {
          "base_uri": "https://localhost:8080/"
        },
        "id": "jN7vQ2xaPTrb",
        "outputId": "66dc6478-77c9-4639-b4d0-38f3756dfd49"
      },
      "execution_count": 8,
      "outputs": [
        {
          "output_type": "stream",
          "name": "stdout",
          "text": [
            "Epoch 1/10\n",
            "3176/3176 [==============================] - 80s 24ms/step - loss: 6.3563 - accuracy: 0.0681\n",
            "Epoch 2/10\n",
            "3176/3176 [==============================] - 77s 24ms/step - loss: 5.6571 - accuracy: 0.1101\n",
            "Epoch 3/10\n",
            "3176/3176 [==============================] - 76s 24ms/step - loss: 5.3300 - accuracy: 0.1306\n",
            "Epoch 4/10\n",
            "3176/3176 [==============================] - 79s 25ms/step - loss: 5.0771 - accuracy: 0.1451\n",
            "Epoch 5/10\n",
            "3176/3176 [==============================] - 96s 30ms/step - loss: 4.8592 - accuracy: 0.1567\n",
            "Epoch 6/10\n",
            "3176/3176 [==============================] - 82s 26ms/step - loss: 4.6690 - accuracy: 0.1668\n",
            "Epoch 7/10\n",
            "3176/3176 [==============================] - 77s 24ms/step - loss: 4.4977 - accuracy: 0.1768\n",
            "Epoch 8/10\n",
            "3176/3176 [==============================] - 78s 24ms/step - loss: 4.3397 - accuracy: 0.1875\n",
            "Epoch 9/10\n",
            "3176/3176 [==============================] - 78s 25ms/step - loss: 4.1960 - accuracy: 0.1998\n",
            "Epoch 10/10\n",
            "3176/3176 [==============================] - 89s 28ms/step - loss: 4.0638 - accuracy: 0.2113\n"
          ]
        }
      ]
    },
    {
      "cell_type": "code",
      "source": [
        "# Function to predict the next word\n",
        "def predict_next_word(model, tokenizer, text, max_sequence_len):\n",
        "    token_list = tokenizer.texts_to_sequences([text])[0]\n",
        "    token_list = pad_sequences([token_list], maxlen=max_sequence_len-1, padding='pre')\n",
        "    predicted = model.predict(token_list, verbose=0)\n",
        "    predicted_word_index = np.argmax(predicted, axis=1)[0]\n",
        "    for word, index in tokenizer.word_index.items():\n",
        "        if index == predicted_word_index:\n",
        "            return word\n",
        "    return \"\""
      ],
      "metadata": {
        "id": "r-i3SQlKPWSj"
      },
      "execution_count": 9,
      "outputs": []
    },
    {
      "cell_type": "code",
      "source": [
        "# Test the model\n",
        "seed_text = \"This eBook is for the use of\"\n",
        "next_word = predict_next_word(model, tokenizer, seed_text, max_sequence_len)\n",
        "print(seed_text + \" \" + next_word)"
      ],
      "metadata": {
        "colab": {
          "base_uri": "https://localhost:8080/"
        },
        "id": "5WxE6IZFPbZj",
        "outputId": "c5e9cdde-cf2b-4ada-87f0-238c029b2ef6"
      },
      "execution_count": 10,
      "outputs": [
        {
          "output_type": "stream",
          "name": "stdout",
          "text": [
            "This eBook is for the use of anyone\n"
          ]
        }
      ]
    },
    {
      "cell_type": "code",
      "source": [],
      "metadata": {
        "id": "xTuyjxLVPiUh"
      },
      "execution_count": null,
      "outputs": []
    }
  ]
}